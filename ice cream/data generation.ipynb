{
 "cells": [
  {
   "cell_type": "code",
   "execution_count": 12,
   "metadata": {},
   "outputs": [],
   "source": [
    "import pandas as pd\n",
    "from datetime import datetime\n",
    "import numpy as np\n",
    "date_rng = pd.date_range(start='1/10/2020', end='2/26/2020', freq='30T')"
   ]
  },
  {
   "cell_type": "code",
   "execution_count": 13,
   "metadata": {},
   "outputs": [
    {
     "data": {
      "text/plain": [
       "DatetimeIndex(['2020-01-10 00:00:00', '2020-01-10 00:30:00',\n",
       "               '2020-01-10 01:00:00', '2020-01-10 01:30:00',\n",
       "               '2020-01-10 02:00:00', '2020-01-10 02:30:00',\n",
       "               '2020-01-10 03:00:00', '2020-01-10 03:30:00',\n",
       "               '2020-01-10 04:00:00', '2020-01-10 04:30:00',\n",
       "               ...\n",
       "               '2020-02-25 19:30:00', '2020-02-25 20:00:00',\n",
       "               '2020-02-25 20:30:00', '2020-02-25 21:00:00',\n",
       "               '2020-02-25 21:30:00', '2020-02-25 22:00:00',\n",
       "               '2020-02-25 22:30:00', '2020-02-25 23:00:00',\n",
       "               '2020-02-25 23:30:00', '2020-02-26 00:00:00'],\n",
       "              dtype='datetime64[ns]', length=2257, freq='30T')"
      ]
     },
     "execution_count": 13,
     "metadata": {},
     "output_type": "execute_result"
    }
   ],
   "source": [
    "date_rng"
   ]
  },
  {
   "cell_type": "code",
   "execution_count": 14,
   "metadata": {},
   "outputs": [
    {
     "data": {
      "text/plain": [
       "2257"
      ]
     },
     "execution_count": 14,
     "metadata": {},
     "output_type": "execute_result"
    }
   ],
   "source": [
    "len(date_rng)"
   ]
  },
  {
   "cell_type": "code",
   "execution_count": 15,
   "metadata": {},
   "outputs": [],
   "source": [
    "from random import seed\n",
    "from random import randint"
   ]
  },
  {
   "cell_type": "code",
   "execution_count": 16,
   "metadata": {},
   "outputs": [],
   "source": [
    "my_list = []\n",
    "for _ in range(len(date_rng)):\n",
    "    my_list.append(randint(-45, -8))"
   ]
  },
  {
   "cell_type": "code",
   "execution_count": 17,
   "metadata": {},
   "outputs": [
    {
     "data": {
      "text/plain": [
       "pandas.core.indexes.datetimes.DatetimeIndex"
      ]
     },
     "execution_count": 17,
     "metadata": {},
     "output_type": "execute_result"
    }
   ],
   "source": [
    "type(date_rng)"
   ]
  },
  {
   "cell_type": "code",
   "execution_count": 18,
   "metadata": {},
   "outputs": [
    {
     "data": {
      "text/html": [
       "<div>\n",
       "<style scoped>\n",
       "    .dataframe tbody tr th:only-of-type {\n",
       "        vertical-align: middle;\n",
       "    }\n",
       "\n",
       "    .dataframe tbody tr th {\n",
       "        vertical-align: top;\n",
       "    }\n",
       "\n",
       "    .dataframe thead th {\n",
       "        text-align: right;\n",
       "    }\n",
       "</style>\n",
       "<table border=\"1\" class=\"dataframe\">\n",
       "  <thead>\n",
       "    <tr style=\"text-align: right;\">\n",
       "      <th></th>\n",
       "    </tr>\n",
       "  </thead>\n",
       "  <tbody>\n",
       "    <tr>\n",
       "      <th>2020-01-10 00:00:00</th>\n",
       "    </tr>\n",
       "    <tr>\n",
       "      <th>2020-01-10 00:30:00</th>\n",
       "    </tr>\n",
       "    <tr>\n",
       "      <th>2020-01-10 01:00:00</th>\n",
       "    </tr>\n",
       "    <tr>\n",
       "      <th>2020-01-10 01:30:00</th>\n",
       "    </tr>\n",
       "    <tr>\n",
       "      <th>2020-01-10 02:00:00</th>\n",
       "    </tr>\n",
       "    <tr>\n",
       "      <th>...</th>\n",
       "    </tr>\n",
       "    <tr>\n",
       "      <th>2020-02-25 22:00:00</th>\n",
       "    </tr>\n",
       "    <tr>\n",
       "      <th>2020-02-25 22:30:00</th>\n",
       "    </tr>\n",
       "    <tr>\n",
       "      <th>2020-02-25 23:00:00</th>\n",
       "    </tr>\n",
       "    <tr>\n",
       "      <th>2020-02-25 23:30:00</th>\n",
       "    </tr>\n",
       "    <tr>\n",
       "      <th>2020-02-26 00:00:00</th>\n",
       "    </tr>\n",
       "  </tbody>\n",
       "</table>\n",
       "<p>2257 rows × 0 columns</p>\n",
       "</div>"
      ],
      "text/plain": [
       "Empty DataFrame\n",
       "Columns: []\n",
       "Index: [2020-01-10 00:00:00, 2020-01-10 00:30:00, 2020-01-10 01:00:00, 2020-01-10 01:30:00, 2020-01-10 02:00:00, 2020-01-10 02:30:00, 2020-01-10 03:00:00, 2020-01-10 03:30:00, 2020-01-10 04:00:00, 2020-01-10 04:30:00, 2020-01-10 05:00:00, 2020-01-10 05:30:00, 2020-01-10 06:00:00, 2020-01-10 06:30:00, 2020-01-10 07:00:00, 2020-01-10 07:30:00, 2020-01-10 08:00:00, 2020-01-10 08:30:00, 2020-01-10 09:00:00, 2020-01-10 09:30:00, 2020-01-10 10:00:00, 2020-01-10 10:30:00, 2020-01-10 11:00:00, 2020-01-10 11:30:00, 2020-01-10 12:00:00, 2020-01-10 12:30:00, 2020-01-10 13:00:00, 2020-01-10 13:30:00, 2020-01-10 14:00:00, 2020-01-10 14:30:00, 2020-01-10 15:00:00, 2020-01-10 15:30:00, 2020-01-10 16:00:00, 2020-01-10 16:30:00, 2020-01-10 17:00:00, 2020-01-10 17:30:00, 2020-01-10 18:00:00, 2020-01-10 18:30:00, 2020-01-10 19:00:00, 2020-01-10 19:30:00, 2020-01-10 20:00:00, 2020-01-10 20:30:00, 2020-01-10 21:00:00, 2020-01-10 21:30:00, 2020-01-10 22:00:00, 2020-01-10 22:30:00, 2020-01-10 23:00:00, 2020-01-10 23:30:00, 2020-01-11 00:00:00, 2020-01-11 00:30:00, 2020-01-11 01:00:00, 2020-01-11 01:30:00, 2020-01-11 02:00:00, 2020-01-11 02:30:00, 2020-01-11 03:00:00, 2020-01-11 03:30:00, 2020-01-11 04:00:00, 2020-01-11 04:30:00, 2020-01-11 05:00:00, 2020-01-11 05:30:00, 2020-01-11 06:00:00, 2020-01-11 06:30:00, 2020-01-11 07:00:00, 2020-01-11 07:30:00, 2020-01-11 08:00:00, 2020-01-11 08:30:00, 2020-01-11 09:00:00, 2020-01-11 09:30:00, 2020-01-11 10:00:00, 2020-01-11 10:30:00, 2020-01-11 11:00:00, 2020-01-11 11:30:00, 2020-01-11 12:00:00, 2020-01-11 12:30:00, 2020-01-11 13:00:00, 2020-01-11 13:30:00, 2020-01-11 14:00:00, 2020-01-11 14:30:00, 2020-01-11 15:00:00, 2020-01-11 15:30:00, 2020-01-11 16:00:00, 2020-01-11 16:30:00, 2020-01-11 17:00:00, 2020-01-11 17:30:00, 2020-01-11 18:00:00, 2020-01-11 18:30:00, 2020-01-11 19:00:00, 2020-01-11 19:30:00, 2020-01-11 20:00:00, 2020-01-11 20:30:00, 2020-01-11 21:00:00, 2020-01-11 21:30:00, 2020-01-11 22:00:00, 2020-01-11 22:30:00, 2020-01-11 23:00:00, 2020-01-11 23:30:00, 2020-01-12 00:00:00, 2020-01-12 00:30:00, 2020-01-12 01:00:00, 2020-01-12 01:30:00, ...]\n",
       "\n",
       "[2257 rows x 0 columns]"
      ]
     },
     "execution_count": 18,
     "metadata": {},
     "output_type": "execute_result"
    }
   ],
   "source": [
    "data = pd.DataFrame(index=date_rng)\n",
    "data"
   ]
  },
  {
   "cell_type": "code",
   "execution_count": 19,
   "metadata": {},
   "outputs": [
    {
     "data": {
      "text/html": [
       "<div>\n",
       "<style scoped>\n",
       "    .dataframe tbody tr th:only-of-type {\n",
       "        vertical-align: middle;\n",
       "    }\n",
       "\n",
       "    .dataframe tbody tr th {\n",
       "        vertical-align: top;\n",
       "    }\n",
       "\n",
       "    .dataframe thead th {\n",
       "        text-align: right;\n",
       "    }\n",
       "</style>\n",
       "<table border=\"1\" class=\"dataframe\">\n",
       "  <thead>\n",
       "    <tr style=\"text-align: right;\">\n",
       "      <th></th>\n",
       "      <th>temparature</th>\n",
       "    </tr>\n",
       "  </thead>\n",
       "  <tbody>\n",
       "    <tr>\n",
       "      <th>2020-01-10 00:00:00</th>\n",
       "      <td>-29</td>\n",
       "    </tr>\n",
       "    <tr>\n",
       "      <th>2020-01-10 00:30:00</th>\n",
       "      <td>-22</td>\n",
       "    </tr>\n",
       "    <tr>\n",
       "      <th>2020-01-10 01:00:00</th>\n",
       "      <td>-31</td>\n",
       "    </tr>\n",
       "    <tr>\n",
       "      <th>2020-01-10 01:30:00</th>\n",
       "      <td>-41</td>\n",
       "    </tr>\n",
       "    <tr>\n",
       "      <th>2020-01-10 02:00:00</th>\n",
       "      <td>-16</td>\n",
       "    </tr>\n",
       "    <tr>\n",
       "      <th>...</th>\n",
       "      <td>...</td>\n",
       "    </tr>\n",
       "    <tr>\n",
       "      <th>2020-02-25 22:00:00</th>\n",
       "      <td>-45</td>\n",
       "    </tr>\n",
       "    <tr>\n",
       "      <th>2020-02-25 22:30:00</th>\n",
       "      <td>-14</td>\n",
       "    </tr>\n",
       "    <tr>\n",
       "      <th>2020-02-25 23:00:00</th>\n",
       "      <td>-26</td>\n",
       "    </tr>\n",
       "    <tr>\n",
       "      <th>2020-02-25 23:30:00</th>\n",
       "      <td>-11</td>\n",
       "    </tr>\n",
       "    <tr>\n",
       "      <th>2020-02-26 00:00:00</th>\n",
       "      <td>-21</td>\n",
       "    </tr>\n",
       "  </tbody>\n",
       "</table>\n",
       "<p>2257 rows × 1 columns</p>\n",
       "</div>"
      ],
      "text/plain": [
       "                     temparature\n",
       "2020-01-10 00:00:00          -29\n",
       "2020-01-10 00:30:00          -22\n",
       "2020-01-10 01:00:00          -31\n",
       "2020-01-10 01:30:00          -41\n",
       "2020-01-10 02:00:00          -16\n",
       "...                          ...\n",
       "2020-02-25 22:00:00          -45\n",
       "2020-02-25 22:30:00          -14\n",
       "2020-02-25 23:00:00          -26\n",
       "2020-02-25 23:30:00          -11\n",
       "2020-02-26 00:00:00          -21\n",
       "\n",
       "[2257 rows x 1 columns]"
      ]
     },
     "execution_count": 19,
     "metadata": {},
     "output_type": "execute_result"
    }
   ],
   "source": [
    "data['temparature'] = my_list\n",
    "data"
   ]
  },
  {
   "cell_type": "code",
   "execution_count": 20,
   "metadata": {},
   "outputs": [],
   "source": [
    "data.to_csv('icecream_data.csv', index=True)"
   ]
  },
  {
   "cell_type": "code",
   "execution_count": null,
   "metadata": {},
   "outputs": [],
   "source": []
  }
 ],
 "metadata": {
  "kernelspec": {
   "display_name": "Python [conda env:iiot_env] *",
   "language": "python",
   "name": "conda-env-iiot_env-py"
  },
  "language_info": {
   "codemirror_mode": {
    "name": "ipython",
    "version": 3
   },
   "file_extension": ".py",
   "mimetype": "text/x-python",
   "name": "python",
   "nbconvert_exporter": "python",
   "pygments_lexer": "ipython3",
   "version": "3.7.6"
  }
 },
 "nbformat": 4,
 "nbformat_minor": 4
}
