{
 "cells": [
  {
   "cell_type": "code",
   "execution_count": 1,
   "metadata": {},
   "outputs": [],
   "source": [
    "import pandas as pd\n",
    "import numpy as np"
   ]
  },
  {
   "cell_type": "code",
   "execution_count": 2,
   "metadata": {},
   "outputs": [],
   "source": [
    "from random import seed\n",
    "from random import randint\n",
    "import datetime\n",
    "import os"
   ]
  },
  {
   "cell_type": "code",
   "execution_count": 4,
   "metadata": {},
   "outputs": [],
   "source": [
    "def generate_censordata(sensor_location, sensor_id, high_temparature, low_temparature, warehouse_name, warehouse_zone):\n",
    "    file_path = os.path.join('.',warehouse_name,warehouse_zone,sensor_location+\".csv\")\n",
    "    today = datetime.date.today()\n",
    "    tomorrow = today + datetime.timedelta(days = 1)\n",
    "    day_after = today + datetime.timedelta(days = 2)\n",
    "    #start='1/10/2020', end='3/3/2020'\n",
    "    date_rng = pd.date_range(start='1/1/2019', end=tomorrow, freq='30T')\n",
    "    my_list = []\n",
    "    for _ in range(len(date_rng)):\n",
    "        my_list.append(randint(low_temparature-3, high_temparature+3))\n",
    "    data = pd.DataFrame(index=date_rng)\n",
    "    data['temparature'] = my_list\n",
    "    data['ZID'] = warehouse_zone\n",
    "    data['WID'] = warehouse_name\n",
    "    data['sensorplace'] = sensor_location\n",
    "    #data_final = data.iloc[:1]\n",
    "    data.to_csv(file_path, index=True, header=True)\n",
    "    "
   ]
  },
  {
   "cell_type": "code",
   "execution_count": null,
   "metadata": {},
   "outputs": [],
   "source": []
  },
  {
   "cell_type": "markdown",
   "metadata": {},
   "source": [
    "# data creation for warehouse 1"
   ]
  },
  {
   "cell_type": "code",
   "execution_count": 5,
   "metadata": {},
   "outputs": [],
   "source": [
    "# Creating data for warehouse 1 zone 1 top sensor\n",
    "generate_censordata(sensor_id='s1', sensor_location='top', warehouse_zone='zone1', warehouse_name = 'wh1', \n",
    "                  high_temparature=39, low_temparature=32)"
   ]
  },
  {
   "cell_type": "code",
   "execution_count": 6,
   "metadata": {},
   "outputs": [],
   "source": [
    "# Creating data for warehouse 1 zone 1 bottom sensor\n",
    "generate_censordata(sensor_id='s2', sensor_location='bottom', warehouse_zone='zone1', warehouse_name='wh1', \n",
    "                  high_temparature=39, low_temparature=32)"
   ]
  },
  {
   "cell_type": "code",
   "execution_count": 7,
   "metadata": {},
   "outputs": [],
   "source": [
    "# Creating data for warehouse 1 zone 2 top sensor\n",
    "generate_censordata(sensor_id='s3', sensor_location='top', warehouse_zone='zone2', warehouse_name = 'wh1', \n",
    "                  high_temparature=54, low_temparature=50)"
   ]
  },
  {
   "cell_type": "code",
   "execution_count": 8,
   "metadata": {},
   "outputs": [],
   "source": [
    "# Creating data for warehouse 1 zone 2 bottom sensor\n",
    "generate_censordata(sensor_id='s4', sensor_location='bottom', warehouse_zone='zone2', warehouse_name='wh1', \n",
    "                  high_temparature=54, low_temparature=50)"
   ]
  },
  {
   "cell_type": "code",
   "execution_count": null,
   "metadata": {},
   "outputs": [],
   "source": []
  },
  {
   "cell_type": "markdown",
   "metadata": {},
   "source": [
    "# Data creation for warehouse 2"
   ]
  },
  {
   "cell_type": "code",
   "execution_count": 9,
   "metadata": {},
   "outputs": [],
   "source": [
    "# Creating data for warehouse 2 zone 1 top sensor\n",
    "generate_censordata(sensor_id='s5', sensor_location='top', warehouse_zone='zone1', warehouse_name= 'wh2', \n",
    "                  high_temparature=0, low_temparature=-20)"
   ]
  },
  {
   "cell_type": "code",
   "execution_count": 10,
   "metadata": {},
   "outputs": [],
   "source": [
    "# Creating data for warehouse 2 zone 1 bottom sensor\n",
    "generate_censordata(sensor_id='s6', sensor_location='bottom', warehouse_zone='zone1', warehouse_name='wh2', \n",
    "                  high_temparature=0, low_temparature=-20)"
   ]
  },
  {
   "cell_type": "code",
   "execution_count": 11,
   "metadata": {},
   "outputs": [],
   "source": [
    "# Creating data for warehouse 2 zone 2 top sensor\n",
    "generate_censordata(sensor_id='s7', sensor_location='top', warehouse_zone='zone2', warehouse_name= 'wh2', \n",
    "                  high_temparature=50, low_temparature=45)"
   ]
  },
  {
   "cell_type": "code",
   "execution_count": 12,
   "metadata": {},
   "outputs": [],
   "source": [
    "\n",
    "# Creating data for warehouse 2 zone 2 bottom sensor\n",
    "generate_censordata(sensor_id='s8', sensor_location='bottom', warehouse_zone='zone2', warehouse_name= 'wh2', \n",
    "                  high_temparature=50, low_temparature=45)"
   ]
  },
  {
   "cell_type": "code",
   "execution_count": null,
   "metadata": {},
   "outputs": [],
   "source": []
  },
  {
   "cell_type": "markdown",
   "metadata": {},
   "source": [
    "# Data creation for warehouse 3"
   ]
  },
  {
   "cell_type": "code",
   "execution_count": 13,
   "metadata": {},
   "outputs": [],
   "source": [
    "# Creating data for warehouse 3 zone 1 top sensor\n",
    "generate_censordata(sensor_id='s9', sensor_location='top', warehouse_zone='zone1', warehouse_name='wh3', \n",
    "                  high_temparature=39, low_temparature=32)"
   ]
  },
  {
   "cell_type": "code",
   "execution_count": 14,
   "metadata": {},
   "outputs": [],
   "source": [
    "# Creating data for warehouse 3 zone 1 bottom sensor\n",
    "generate_censordata(sensor_id='s10', sensor_location='bottom', warehouse_zone='zone1', warehouse_name='wh3', \n",
    "                  high_temparature=39, low_temparature=32)"
   ]
  },
  {
   "cell_type": "code",
   "execution_count": 15,
   "metadata": {},
   "outputs": [],
   "source": [
    "# Creating data for warehouse 3 zone 2 top sensor\n",
    "generate_censordata(sensor_id='s11', sensor_location='top', warehouse_zone='zone2', warehouse_name = 'wh3', \n",
    "                  high_temparature=54, low_temparature=50)"
   ]
  },
  {
   "cell_type": "code",
   "execution_count": 16,
   "metadata": {},
   "outputs": [],
   "source": [
    "# Creating data for warehouse 3 zone 2 bottom sensor\n",
    "generate_censordata(sensor_id='s12', sensor_location='bottom', warehouse_zone='zone2', warehouse_name= 'wh3', \n",
    "                  high_temparature=54, low_temparature=50)"
   ]
  },
  {
   "cell_type": "code",
   "execution_count": null,
   "metadata": {},
   "outputs": [],
   "source": []
  },
  {
   "cell_type": "markdown",
   "metadata": {},
   "source": [
    "# Data creation for warehouse 4"
   ]
  },
  {
   "cell_type": "code",
   "execution_count": 17,
   "metadata": {},
   "outputs": [],
   "source": [
    "# Creating data for warehouse 4 zone 1 top sensor\n",
    "generate_censordata(sensor_id='s13', sensor_location='top', warehouse_zone='zone1', warehouse_name='wh4', \n",
    "                  high_temparature=0, low_temparature=-20)"
   ]
  },
  {
   "cell_type": "code",
   "execution_count": 18,
   "metadata": {},
   "outputs": [],
   "source": [
    "# Creating data for warehouse 4 zone 1 bottom sensor\n",
    "generate_censordata(sensor_id='s14', sensor_location='bottom', warehouse_zone='zone1', warehouse_name = 'wh4', \n",
    "                  high_temparature=0, low_temparature=-20)"
   ]
  },
  {
   "cell_type": "code",
   "execution_count": 19,
   "metadata": {},
   "outputs": [],
   "source": [
    "# Creating data for warehouse 4 zone 2 top sensor\n",
    "generate_censordata(sensor_id='s15', sensor_location='top', warehouse_zone='zone2', warehouse_name='wh4', \n",
    "                  high_temparature=50, low_temparature=44)"
   ]
  },
  {
   "cell_type": "code",
   "execution_count": 20,
   "metadata": {},
   "outputs": [],
   "source": [
    "# Creating data for warehouse 4 zone 2 bottom sensor\n",
    "generate_censordata(sensor_id='s16', sensor_location='bottom', warehouse_zone='zone2', warehouse_name = 'wh4', \n",
    "                  high_temparature=50, low_temparature=44)"
   ]
  },
  {
   "cell_type": "code",
   "execution_count": null,
   "metadata": {},
   "outputs": [],
   "source": []
  },
  {
   "cell_type": "code",
   "execution_count": null,
   "metadata": {},
   "outputs": [],
   "source": []
  }
 ],
 "metadata": {
  "kernelspec": {
   "display_name": "Python [conda env:iiot_env] *",
   "language": "python",
   "name": "conda-env-iiot_env-py"
  },
  "language_info": {
   "codemirror_mode": {
    "name": "ipython",
    "version": 3
   },
   "file_extension": ".py",
   "mimetype": "text/x-python",
   "name": "python",
   "nbconvert_exporter": "python",
   "pygments_lexer": "ipython3",
   "version": "3.7.6"
  }
 },
 "nbformat": 4,
 "nbformat_minor": 4
}
