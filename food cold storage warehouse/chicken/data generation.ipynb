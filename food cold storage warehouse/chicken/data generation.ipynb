{
 "cells": [
  {
   "cell_type": "code",
   "execution_count": 3,
   "metadata": {},
   "outputs": [],
   "source": [
    "import pandas as pd\n",
    "from datetime import datetime\n",
    "import numpy as np\n",
    "date_rng = pd.date_range(start='1/10/2020', end='2/26/2020', freq='15T')"
   ]
  },
  {
   "cell_type": "code",
   "execution_count": 4,
   "metadata": {},
   "outputs": [
    {
     "data": {
      "text/plain": [
       "DatetimeIndex(['2020-01-10 00:00:00', '2020-01-10 00:15:00',\n",
       "               '2020-01-10 00:30:00', '2020-01-10 00:45:00',\n",
       "               '2020-01-10 01:00:00', '2020-01-10 01:15:00',\n",
       "               '2020-01-10 01:30:00', '2020-01-10 01:45:00',\n",
       "               '2020-01-10 02:00:00', '2020-01-10 02:15:00',\n",
       "               ...\n",
       "               '2020-02-25 21:45:00', '2020-02-25 22:00:00',\n",
       "               '2020-02-25 22:15:00', '2020-02-25 22:30:00',\n",
       "               '2020-02-25 22:45:00', '2020-02-25 23:00:00',\n",
       "               '2020-02-25 23:15:00', '2020-02-25 23:30:00',\n",
       "               '2020-02-25 23:45:00', '2020-02-26 00:00:00'],\n",
       "              dtype='datetime64[ns]', length=4513, freq='15T')"
      ]
     },
     "execution_count": 4,
     "metadata": {},
     "output_type": "execute_result"
    }
   ],
   "source": [
    "date_rng"
   ]
  },
  {
   "cell_type": "code",
   "execution_count": 5,
   "metadata": {},
   "outputs": [
    {
     "data": {
      "text/plain": [
       "4513"
      ]
     },
     "execution_count": 5,
     "metadata": {},
     "output_type": "execute_result"
    }
   ],
   "source": [
    "len(date_rng)"
   ]
  },
  {
   "cell_type": "code",
   "execution_count": 6,
   "metadata": {},
   "outputs": [],
   "source": [
    "from random import seed\n",
    "from random import randint"
   ]
  },
  {
   "cell_type": "code",
   "execution_count": 7,
   "metadata": {},
   "outputs": [],
   "source": [
    "my_list = []\n",
    "for _ in range(len(date_rng)):\n",
    "    my_list.append(randint(-30, 0))"
   ]
  },
  {
   "cell_type": "code",
   "execution_count": 8,
   "metadata": {},
   "outputs": [
    {
     "data": {
      "text/plain": [
       "pandas.core.indexes.datetimes.DatetimeIndex"
      ]
     },
     "execution_count": 8,
     "metadata": {},
     "output_type": "execute_result"
    }
   ],
   "source": [
    "type(date_rng)"
   ]
  },
  {
   "cell_type": "code",
   "execution_count": 9,
   "metadata": {},
   "outputs": [
    {
     "data": {
      "text/html": [
       "<div>\n",
       "<style scoped>\n",
       "    .dataframe tbody tr th:only-of-type {\n",
       "        vertical-align: middle;\n",
       "    }\n",
       "\n",
       "    .dataframe tbody tr th {\n",
       "        vertical-align: top;\n",
       "    }\n",
       "\n",
       "    .dataframe thead th {\n",
       "        text-align: right;\n",
       "    }\n",
       "</style>\n",
       "<table border=\"1\" class=\"dataframe\">\n",
       "  <thead>\n",
       "    <tr style=\"text-align: right;\">\n",
       "      <th></th>\n",
       "    </tr>\n",
       "  </thead>\n",
       "  <tbody>\n",
       "    <tr>\n",
       "      <th>2020-01-10 00:00:00</th>\n",
       "    </tr>\n",
       "    <tr>\n",
       "      <th>2020-01-10 00:15:00</th>\n",
       "    </tr>\n",
       "    <tr>\n",
       "      <th>2020-01-10 00:30:00</th>\n",
       "    </tr>\n",
       "    <tr>\n",
       "      <th>2020-01-10 00:45:00</th>\n",
       "    </tr>\n",
       "    <tr>\n",
       "      <th>2020-01-10 01:00:00</th>\n",
       "    </tr>\n",
       "    <tr>\n",
       "      <th>...</th>\n",
       "    </tr>\n",
       "    <tr>\n",
       "      <th>2020-02-25 23:00:00</th>\n",
       "    </tr>\n",
       "    <tr>\n",
       "      <th>2020-02-25 23:15:00</th>\n",
       "    </tr>\n",
       "    <tr>\n",
       "      <th>2020-02-25 23:30:00</th>\n",
       "    </tr>\n",
       "    <tr>\n",
       "      <th>2020-02-25 23:45:00</th>\n",
       "    </tr>\n",
       "    <tr>\n",
       "      <th>2020-02-26 00:00:00</th>\n",
       "    </tr>\n",
       "  </tbody>\n",
       "</table>\n",
       "<p>4513 rows × 0 columns</p>\n",
       "</div>"
      ],
      "text/plain": [
       "Empty DataFrame\n",
       "Columns: []\n",
       "Index: [2020-01-10 00:00:00, 2020-01-10 00:15:00, 2020-01-10 00:30:00, 2020-01-10 00:45:00, 2020-01-10 01:00:00, 2020-01-10 01:15:00, 2020-01-10 01:30:00, 2020-01-10 01:45:00, 2020-01-10 02:00:00, 2020-01-10 02:15:00, 2020-01-10 02:30:00, 2020-01-10 02:45:00, 2020-01-10 03:00:00, 2020-01-10 03:15:00, 2020-01-10 03:30:00, 2020-01-10 03:45:00, 2020-01-10 04:00:00, 2020-01-10 04:15:00, 2020-01-10 04:30:00, 2020-01-10 04:45:00, 2020-01-10 05:00:00, 2020-01-10 05:15:00, 2020-01-10 05:30:00, 2020-01-10 05:45:00, 2020-01-10 06:00:00, 2020-01-10 06:15:00, 2020-01-10 06:30:00, 2020-01-10 06:45:00, 2020-01-10 07:00:00, 2020-01-10 07:15:00, 2020-01-10 07:30:00, 2020-01-10 07:45:00, 2020-01-10 08:00:00, 2020-01-10 08:15:00, 2020-01-10 08:30:00, 2020-01-10 08:45:00, 2020-01-10 09:00:00, 2020-01-10 09:15:00, 2020-01-10 09:30:00, 2020-01-10 09:45:00, 2020-01-10 10:00:00, 2020-01-10 10:15:00, 2020-01-10 10:30:00, 2020-01-10 10:45:00, 2020-01-10 11:00:00, 2020-01-10 11:15:00, 2020-01-10 11:30:00, 2020-01-10 11:45:00, 2020-01-10 12:00:00, 2020-01-10 12:15:00, 2020-01-10 12:30:00, 2020-01-10 12:45:00, 2020-01-10 13:00:00, 2020-01-10 13:15:00, 2020-01-10 13:30:00, 2020-01-10 13:45:00, 2020-01-10 14:00:00, 2020-01-10 14:15:00, 2020-01-10 14:30:00, 2020-01-10 14:45:00, 2020-01-10 15:00:00, 2020-01-10 15:15:00, 2020-01-10 15:30:00, 2020-01-10 15:45:00, 2020-01-10 16:00:00, 2020-01-10 16:15:00, 2020-01-10 16:30:00, 2020-01-10 16:45:00, 2020-01-10 17:00:00, 2020-01-10 17:15:00, 2020-01-10 17:30:00, 2020-01-10 17:45:00, 2020-01-10 18:00:00, 2020-01-10 18:15:00, 2020-01-10 18:30:00, 2020-01-10 18:45:00, 2020-01-10 19:00:00, 2020-01-10 19:15:00, 2020-01-10 19:30:00, 2020-01-10 19:45:00, 2020-01-10 20:00:00, 2020-01-10 20:15:00, 2020-01-10 20:30:00, 2020-01-10 20:45:00, 2020-01-10 21:00:00, 2020-01-10 21:15:00, 2020-01-10 21:30:00, 2020-01-10 21:45:00, 2020-01-10 22:00:00, 2020-01-10 22:15:00, 2020-01-10 22:30:00, 2020-01-10 22:45:00, 2020-01-10 23:00:00, 2020-01-10 23:15:00, 2020-01-10 23:30:00, 2020-01-10 23:45:00, 2020-01-11 00:00:00, 2020-01-11 00:15:00, 2020-01-11 00:30:00, 2020-01-11 00:45:00, ...]\n",
       "\n",
       "[4513 rows x 0 columns]"
      ]
     },
     "execution_count": 9,
     "metadata": {},
     "output_type": "execute_result"
    }
   ],
   "source": [
    "data = pd.DataFrame(index=date_rng)\n",
    "data"
   ]
  },
  {
   "cell_type": "code",
   "execution_count": 10,
   "metadata": {},
   "outputs": [
    {
     "data": {
      "text/html": [
       "<div>\n",
       "<style scoped>\n",
       "    .dataframe tbody tr th:only-of-type {\n",
       "        vertical-align: middle;\n",
       "    }\n",
       "\n",
       "    .dataframe tbody tr th {\n",
       "        vertical-align: top;\n",
       "    }\n",
       "\n",
       "    .dataframe thead th {\n",
       "        text-align: right;\n",
       "    }\n",
       "</style>\n",
       "<table border=\"1\" class=\"dataframe\">\n",
       "  <thead>\n",
       "    <tr style=\"text-align: right;\">\n",
       "      <th></th>\n",
       "      <th>temparature</th>\n",
       "    </tr>\n",
       "  </thead>\n",
       "  <tbody>\n",
       "    <tr>\n",
       "      <th>2020-01-10 00:00:00</th>\n",
       "      <td>-12</td>\n",
       "    </tr>\n",
       "    <tr>\n",
       "      <th>2020-01-10 00:15:00</th>\n",
       "      <td>-9</td>\n",
       "    </tr>\n",
       "    <tr>\n",
       "      <th>2020-01-10 00:30:00</th>\n",
       "      <td>-10</td>\n",
       "    </tr>\n",
       "    <tr>\n",
       "      <th>2020-01-10 00:45:00</th>\n",
       "      <td>-8</td>\n",
       "    </tr>\n",
       "    <tr>\n",
       "      <th>2020-01-10 01:00:00</th>\n",
       "      <td>-19</td>\n",
       "    </tr>\n",
       "    <tr>\n",
       "      <th>...</th>\n",
       "      <td>...</td>\n",
       "    </tr>\n",
       "    <tr>\n",
       "      <th>2020-02-25 23:00:00</th>\n",
       "      <td>0</td>\n",
       "    </tr>\n",
       "    <tr>\n",
       "      <th>2020-02-25 23:15:00</th>\n",
       "      <td>-19</td>\n",
       "    </tr>\n",
       "    <tr>\n",
       "      <th>2020-02-25 23:30:00</th>\n",
       "      <td>-24</td>\n",
       "    </tr>\n",
       "    <tr>\n",
       "      <th>2020-02-25 23:45:00</th>\n",
       "      <td>-12</td>\n",
       "    </tr>\n",
       "    <tr>\n",
       "      <th>2020-02-26 00:00:00</th>\n",
       "      <td>-12</td>\n",
       "    </tr>\n",
       "  </tbody>\n",
       "</table>\n",
       "<p>4513 rows × 1 columns</p>\n",
       "</div>"
      ],
      "text/plain": [
       "                     temparature\n",
       "2020-01-10 00:00:00          -12\n",
       "2020-01-10 00:15:00           -9\n",
       "2020-01-10 00:30:00          -10\n",
       "2020-01-10 00:45:00           -8\n",
       "2020-01-10 01:00:00          -19\n",
       "...                          ...\n",
       "2020-02-25 23:00:00            0\n",
       "2020-02-25 23:15:00          -19\n",
       "2020-02-25 23:30:00          -24\n",
       "2020-02-25 23:45:00          -12\n",
       "2020-02-26 00:00:00          -12\n",
       "\n",
       "[4513 rows x 1 columns]"
      ]
     },
     "execution_count": 10,
     "metadata": {},
     "output_type": "execute_result"
    }
   ],
   "source": [
    "data['temparature'] = my_list\n",
    "data"
   ]
  },
  {
   "cell_type": "code",
   "execution_count": 11,
   "metadata": {},
   "outputs": [],
   "source": [
    "data.to_csv('chicken_data.csv', index=True)"
   ]
  },
  {
   "cell_type": "code",
   "execution_count": null,
   "metadata": {},
   "outputs": [],
   "source": []
  }
 ],
 "metadata": {
  "kernelspec": {
   "display_name": "Python [conda env:iiot_env] *",
   "language": "python",
   "name": "conda-env-iiot_env-py"
  },
  "language_info": {
   "codemirror_mode": {
    "name": "ipython",
    "version": 3
   },
   "file_extension": ".py",
   "mimetype": "text/x-python",
   "name": "python",
   "nbconvert_exporter": "python",
   "pygments_lexer": "ipython3",
   "version": "3.7.6"
  }
 },
 "nbformat": 4,
 "nbformat_minor": 4
}
